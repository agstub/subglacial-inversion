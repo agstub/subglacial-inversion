{
 "cells": [
  {
   "cell_type": "markdown",
   "id": "modern-cleaning",
   "metadata": {},
   "source": [
    "This notebook reproduces the computational examples in Figures 3-5 from the manuscript."
   ]
  },
  {
   "cell_type": "code",
   "execution_count": null,
   "id": "humanitarian-brazil",
   "metadata": {},
   "outputs": [],
   "source": [
    "# add path to code\n",
    "import sys\n",
    "sys.path.insert(0, '../code')\n",
    "import numpy as np"
   ]
  },
  {
   "cell_type": "markdown",
   "id": "hourly-depression",
   "metadata": {},
   "source": [
    "First, we specify that we are inverting for the basal vertical velocity $w_b$:"
   ]
  },
  {
   "cell_type": "code",
   "execution_count": null,
   "id": "perfect-instruction",
   "metadata": {},
   "outputs": [],
   "source": [
    "inv_w = 1        # turn basal velocity inversion 'on'\n",
    "inv_beta = 0     # turn basal drag inversion 'off'"
   ]
  },
  {
   "cell_type": "markdown",
   "id": "fitted-bronze",
   "metadata": {},
   "source": [
    "We are going to make some synthetic data for the example inversion.\n",
    "This is done by prescribing an oscillating Gaussian anomaly of the form \n",
    "$$ w_b^\\mathrm{true}(x,y,t) = 5\\exp\\left(-\\frac{x^2+y^2 }{2\\sigma^2}\\right)\\sin(2\\pi t\\,/\\,T) $$\n",
    "where $T=10$ yr is the final time and $\\sigma = 20/3$ km determines the width of the anomaly."
   ]
  },
  {
   "cell_type": "markdown",
   "id": "straight-sitting",
   "metadata": {},
   "source": [
    "For later comparison, we will want this \"true\" inverse solution defined above, so we obtain that via:"
   ]
  },
  {
   "cell_type": "code",
   "execution_count": null,
   "id": "retired-vampire",
   "metadata": {},
   "outputs": [],
   "source": [
    "from synthetic_data import make_fields\n",
    "sol_true = make_fields(inv_w,inv_beta)"
   ]
  },
  {
   "cell_type": "markdown",
   "id": "potential-advertising",
   "metadata": {},
   "source": [
    "The \"true\" elevation is computed by application of the forward operator $\\mathcal{H}_{w_b}$:\n",
    "$$h^\\mathrm{true} = \\mathcal{H}_{w_b}(w_b^\\mathrm{true}) $$\n",
    "and the synthetic data is constructed via\n",
    "$$h^\\mathrm{obs} = h^\\mathrm{true} + \\text{noise}.$$\n",
    "The magnitude of the noise is set by the $\\texttt{noise}\\_\\texttt{level}$ parameter, which determines the deviation from\n",
    "the smooth elevation by the relative \"error\"\n",
    "$$\\|h^\\mathrm{obs}-h^\\mathrm{true} \\|/\\|h^\\mathrm{true}\\| = \\texttt{noise}\\_\\texttt{level}.$$\n",
    "Here the norm over space and time is defined via\n",
    "$$\\|f\\|^2  = \\int_0^T\\int_{-\\infty}^{+\\infty}\\int_{-\\infty}^{+\\infty} |f(x,y,t)|^2\\;\\mathrm{d}x\\,\\mathrm{d}y\\,\\mathrm{d}t,$$\n",
    "where obviously the infinite spatial domain is replaced by a \"large enough\" box. "
   ]
  },
  {
   "cell_type": "code",
   "execution_count": null,
   "id": "worth-gazette",
   "metadata": {},
   "outputs": [],
   "source": [
    "from synthetic_data import make_data\n",
    "\n",
    "noise_level = 0.01                              # noise level (scaled relative to elevation anomaly norm)\n",
    "\n",
    "data = make_data(inv_w,inv_beta,noise_level)    # make the synthetic data "
   ]
  },
  {
   "cell_type": "markdown",
   "id": "opened-arbitration",
   "metadata": {},
   "source": [
    "The least-squares inverse solution is obtained by solving the normal equation\n",
    "$$ \\mathcal{H}_{w_b}^\\dagger(\\mathcal{H}_{w_b}(w_b)) + \\mathcal{R}'(w_b) = \\mathcal{H}_{w_b}^\\dagger (h^\\mathrm{obs}) $$\n",
    "with the conjugate gradient method, where $\\mathcal{R}'$ is a regularization term. An analogous equation is used for the basal drag coefficient ($\\beta$) inversion. In these examples, we choose an $H^1$-type regularization of the form\n",
    "$$ \\mathcal{R}'(w_b) = -\\varepsilon\\nabla^2 w_b$$\n",
    "where $\\varepsilon$ is the regularization parameter. "
   ]
  },
  {
   "cell_type": "markdown",
   "id": "recovered-surgeon",
   "metadata": {},
   "source": [
    "The goal now is to determine the optimal regularization parameter $\\varepsilon$ that minimizes the misfit without overfitting the data."
   ]
  },
  {
   "cell_type": "markdown",
   "id": "metallic-roman",
   "metadata": {},
   "source": [
    "We are not using surface velocity data for these examples, so we set the velocity \"locations\" all to zero:"
   ]
  },
  {
   "cell_type": "code",
   "execution_count": null,
   "id": "limiting-topic",
   "metadata": {},
   "outputs": [],
   "source": [
    "vel_locs = np.zeros(np.shape(data[0]),dtype=int)"
   ]
  },
  {
   "cell_type": "markdown",
   "id": "polished-seller",
   "metadata": {},
   "source": [
    "To find the optimal regularization parameter ($\\varepsilon$), we will test a range of values, then\n",
    "pick the one that minimizes the misfit without overfitting the data:"
   ]
  },
  {
   "cell_type": "code",
   "execution_count": null,
   "id": "surprised-cheat",
   "metadata": {},
   "outputs": [],
   "source": [
    "eps_w = np.array([1e-2,1e-1,1e0,1e1,1e2])     # array of regularization parameters\n",
    "mis_w = np.zeros(np.shape(eps_w))             # array of misfits"
   ]
  },
  {
   "cell_type": "markdown",
   "id": "accurate-captain",
   "metadata": {},
   "source": [
    "The $\\texttt{main}$ function returns the inverse solution $\\texttt{sol}$ ($w_b$ in this case), as well as the associated forward solution $\\texttt{fwd}$ ($h$ in this case), and the relative misfit $\\texttt{mis}=\\|h^\\mathrm{obs}-h \\|/\\|h^\\mathrm{obs}\\|$. "
   ]
  },
  {
   "cell_type": "markdown",
   "id": "hawaiian-confidence",
   "metadata": {},
   "source": [
    "Convergence information is printed during the conjugate gradient iterations. "
   ]
  },
  {
   "cell_type": "code",
   "execution_count": null,
   "id": "detailed-rover",
   "metadata": {},
   "outputs": [],
   "source": [
    "from main import main"
   ]
  },
  {
   "cell_type": "code",
   "execution_count": null,
   "id": "infectious-ideal",
   "metadata": {
    "scrolled": true
   },
   "outputs": [],
   "source": [
    "for i in range(np.size(eps_w)):\n",
    "    print('------------- testing eps =  '+str(eps_w[i])+' -------------')\n",
    "    sol,fwd,mis_w[i] = main(data,vel_locs,inv_w,inv_beta,eps_w=eps_w[i],eps_beta=0);\n",
    "    print('||h-h_obs||/||h_obs|| = '+str(mis_w[i])+' (target = '+str(noise_level)+') \\n')"
   ]
  },
  {
   "cell_type": "markdown",
   "id": "metropolitan-expert",
   "metadata": {},
   "source": [
    "We now determine the optimal paramter via interpolation and root finding:"
   ]
  },
  {
   "cell_type": "code",
   "execution_count": null,
   "id": "piano-posting",
   "metadata": {},
   "outputs": [],
   "source": [
    "from scipy.interpolate import interp1d\n",
    "mis_w_int = interp1d(eps_w,mis_w,kind='linear')"
   ]
  },
  {
   "cell_type": "code",
   "execution_count": null,
   "id": "demonstrated-combination",
   "metadata": {},
   "outputs": [],
   "source": [
    "from scipy.optimize import root_scalar\n",
    "\n",
    "eps_w_opt = root_scalar(lambda x: mis_w_int(x)-noise_level,x0=eps_w[0],x1=eps_w[-1]).root"
   ]
  },
  {
   "cell_type": "markdown",
   "id": "unusual-nickel",
   "metadata": {},
   "source": [
    "We will plot the \"L-curve\" later, but first let's see what the optimal inverse solution looks like:"
   ]
  },
  {
   "cell_type": "code",
   "execution_count": null,
   "id": "spatial-modern",
   "metadata": {},
   "outputs": [],
   "source": [
    "sol,fwd,mis = main(data,vel_locs,inv_w,inv_beta,eps_w=eps_w_opt,eps_beta=0);\n",
    "from plotting import snapshots,plot_movie\n",
    "snapshots(data,fwd,sol,sol_true,inv_w,inv_beta)\n",
    "#plot_movie(data,fwd,sol,sol_true,inv_w,inv_beta)    # uncomment to plot a png at every time step "
   ]
  },
  {
   "cell_type": "markdown",
   "id": "gentle-lecture",
   "metadata": {},
   "source": [
    "Next, we will repeat the same example for the basal drag coefficient ($\\beta$) inversion. Here, he assume that a slippery spot emerges and disappeares over the observation time. The \"true\" field is given by\n",
    "$$ \\beta^\\mathrm{true}(x,y,t) = -8\\times 10^{-2}\\exp\\left(-\\frac{x^2+y^2 }{2\\sigma^2}\\right)B(t) $$\n",
    "where $B$ is a continuous box-type function that controls the emergence and disappearance of the anomaly (see synthetic_data.py)."
   ]
  },
  {
   "cell_type": "markdown",
   "id": "extensive-salmon",
   "metadata": {},
   "source": [
    "Omitting the same level of detail as above, we repeat the test for this input below:"
   ]
  },
  {
   "cell_type": "code",
   "execution_count": null,
   "id": "removed-recording",
   "metadata": {},
   "outputs": [],
   "source": [
    "inv_w = 0                                    # turn basal velocity inversion 'off'\n",
    "inv_beta = 1                                 # turn basal drag inversion 'on'\n",
    "sol_true = make_fields(inv_w,inv_beta)       # get the \"true\" inverse solution\n",
    "data = make_data(inv_w,inv_beta,noise_level) # create the data\n",
    "eps_b = np.array([1e2,1e3,1e4,1e5,1e6])      # array of regularization parameters\n",
    "mis_b = np.zeros(np.shape(eps_b))            # array of misfits\n",
    "\n",
    "for i in range(np.size(eps_b)):\n",
    "    print('------------- testing eps =  '+str(eps_b[i])+' -------------')\n",
    "    sol,fwd,mis_b[i] = main(data,vel_locs,inv_w,inv_beta,eps_beta=eps_b[i],eps_w=0);\n",
    "    print('||h-h_obs||/||h_obs|| = '+str(mis_b[i])+' (target = '+str(noise_level)+') \\n')\n",
    "\n",
    "mis_b_int = interp1d(eps_b,mis_b,kind='linear')    # interpolate misfits and find the optimal reg. parameter\n",
    "eps_b_opt = root_scalar(lambda x: mis_b_int(x)-noise_level,x0=eps_b[0],x1=eps_b[-1]).root  \n",
    "print('--------------------------------------------------------------------')\n",
    "print('Getting inverse solution at optimal regularization parameter value\\n')\n",
    "sol,fwd,mis = main(data,vel_locs,inv_w,inv_beta,eps_beta=eps_b_opt,eps_w=0);\n",
    "snapshots(data,fwd,sol,sol_true,inv_w,inv_beta)\n",
    "#plot_movie(data,fwd,sol,sol_true,inv_w,inv_beta)    # uncomment to plot a png at every time step "
   ]
  },
  {
   "cell_type": "markdown",
   "id": "promotional-cooling",
   "metadata": {},
   "source": [
    "Clearly the reconstructed basal drag field has a smaller amplitude than the \"true\" solution. In the next notebooks, we show how incorporation of velocity data can remedy this issue."
   ]
  },
  {
   "cell_type": "markdown",
   "id": "polar-order",
   "metadata": {},
   "source": [
    "Finaly, we can plot the \"L-curve\" for both inversion examples:"
   ]
  },
  {
   "cell_type": "code",
   "execution_count": null,
   "id": "canadian-visit",
   "metadata": {
    "scrolled": false
   },
   "outputs": [],
   "source": [
    "import matplotlib.pyplot as plt\n",
    "plt.figure(figsize=(8,4))\n",
    "plt.axhline(y=noise_level,color='k',linestyle='--',linewidth=2)\n",
    "plt.plot(eps_w,mis_w,'o-',color='C3',linewidth=2,markersize=8,mec='k',label=r'$w_b$')\n",
    "plt.plot([eps_w_opt],[mis_w_int(eps_w_opt)],'*',color='C3',markersize=20,mec='k')\n",
    "plt.plot(eps_b,mis_b,'^-',color='C0',linewidth=2,markersize=8,mec='k',label=r'$\\beta$')\n",
    "plt.plot([eps_b_opt],[mis_b_int(eps_b_opt)],'*',color='C0',markersize=20,mec='k')\n",
    "plt.annotate(r'noise level',xy=(3e-1,1.1e-2),fontsize=18,color='k')\n",
    "plt.gca().set_yscale('log')\n",
    "plt.gca().set_xscale('log')\n",
    "plt.xticks(fontsize=16)\n",
    "plt.yticks(fontsize=16)\n",
    "plt.gca().invert_xaxis()\n",
    "plt.xlabel(r'$\\varepsilon$',fontsize=20)\n",
    "plt.ylabel(r'$\\Vert h^\\mathrm{obs}-h^\\varepsilon \\Vert\\,/\\,\\Vert h^\\mathrm{obs}\\Vert$',fontsize=20)\n",
    "plt.legend(fontsize=18,loc='upper right')\n",
    "plt.tight_layout()\n",
    "plt.savefig('fig3',bbox_inches='tight')\n",
    "plt.show()\n",
    "plt.close()"
   ]
  }
 ],
 "metadata": {
  "kernelspec": {
   "display_name": "Python 3",
   "language": "python",
   "name": "python3"
  },
  "language_info": {
   "codemirror_mode": {
    "name": "ipython",
    "version": 3
   },
   "file_extension": ".py",
   "mimetype": "text/x-python",
   "name": "python",
   "nbconvert_exporter": "python",
   "pygments_lexer": "ipython3",
   "version": "3.8.10"
  }
 },
 "nbformat": 4,
 "nbformat_minor": 5
}
