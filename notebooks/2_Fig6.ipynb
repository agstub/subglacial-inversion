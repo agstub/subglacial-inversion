{
 "cells": [
  {
   "cell_type": "markdown",
   "id": "adopted-nigeria",
   "metadata": {},
   "source": [
    "This notebook reproduces Figure 6 in the manuscript: basal drag coefficient ($\\beta$) inversions with GPS stations"
   ]
  },
  {
   "cell_type": "code",
   "execution_count": null,
   "id": "discrete-grace",
   "metadata": {},
   "outputs": [],
   "source": [
    "# add path to code\n",
    "import sys\n",
    "sys.path.insert(0, '../code')\n",
    "import params\n",
    "params.u_wt = 1e-3                           # set weight on velocity misfit terms relative to elevation misfit\n",
    "\n",
    "import numpy as np\n",
    "from synthetic_data import make_data,make_fields\n",
    "from main import main\n",
    "\n",
    "noise_level = 0.01                           # noise level (scaled relative to elevation anomaly norm)\n",
    "\n",
    "inv_w = 0                                    # turn basal velocity inversion 'off'\n",
    "inv_beta = 1                                 # turn basal drag inversion 'on'\n",
    "sol_true = make_fields(inv_w,inv_beta)       # get the \"true\" inverse solution\n",
    "data = make_data(inv_w,inv_beta,noise_level) # create the data\n",
    "eps = 5.5e3                                  # set regularization parameter to ~optimal value"
   ]
  },
  {
   "cell_type": "markdown",
   "id": "reserved-saudi",
   "metadata": {},
   "source": [
    "First, we consider no GPS stations over the anomaly (same as in previous notebook). To do this, we set $\\texttt{vel_locs}$ to be zero everywhere"
   ]
  },
  {
   "cell_type": "code",
   "execution_count": null,
   "id": "grave-exhibit",
   "metadata": {},
   "outputs": [],
   "source": [
    "vel_locs = np.zeros(np.shape(data[0]),dtype=int)\n",
    "sol1,fwd,mis = main(data,vel_locs,inv_w,inv_beta,eps_beta=eps,eps_w=0);"
   ]
  },
  {
   "cell_type": "markdown",
   "id": "objective-portal",
   "metadata": {},
   "source": [
    "Next, we will place 1 GPS station directly over the anomaly"
   ]
  },
  {
   "cell_type": "code",
   "execution_count": null,
   "id": "developing-provision",
   "metadata": {
    "scrolled": true
   },
   "outputs": [],
   "source": [
    "vel_locs[np.sqrt(params.x**2+params.y**2)<0.5*params.dx] = 1    # one station"
   ]
  },
  {
   "cell_type": "code",
   "execution_count": null,
   "id": "stupid-princeton",
   "metadata": {},
   "outputs": [],
   "source": [
    "sol2,fwd,mis = main(data,vel_locs,inv_w,inv_beta,eps_beta=eps,eps_w=0);"
   ]
  },
  {
   "cell_type": "markdown",
   "id": "packed-toddler",
   "metadata": {},
   "source": [
    "Next, we create a GPS array with 9 stations over the anomaly:"
   ]
  },
  {
   "cell_type": "code",
   "execution_count": null,
   "id": "modern-battery",
   "metadata": {},
   "outputs": [],
   "source": [
    "vel_locs[:,50,50] = 1\n",
    "vel_locs[:,60,50] = 1\n",
    "vel_locs[:,50,60] = 1\n",
    "vel_locs[:,60,60] = 1\n",
    "vel_locs[:,40,50] = 1\n",
    "vel_locs[:,50,40] = 1\n",
    "vel_locs[:,40,40] = 1\n",
    "vel_locs[:,40,60] = 1\n",
    "vel_locs[:,60,40] = 1"
   ]
  },
  {
   "cell_type": "code",
   "execution_count": null,
   "id": "meaningful-worker",
   "metadata": {},
   "outputs": [],
   "source": [
    "sol3,fwd,mis = main(data,vel_locs,inv_w,inv_beta,eps_beta=eps,eps_w=0);"
   ]
  },
  {
   "cell_type": "markdown",
   "id": "explicit-investigation",
   "metadata": {},
   "source": [
    "Plotting the solutions for comparison:"
   ]
  },
  {
   "cell_type": "code",
   "execution_count": null,
   "id": "particular-commander",
   "metadata": {},
   "outputs": [],
   "source": [
    "from plotting import gps_plot\n",
    "gps_plot(sol1,sol2,sol3,sol_true,vel_locs,inv_w,inv_beta)"
   ]
  }
 ],
 "metadata": {
  "kernelspec": {
   "display_name": "Python 3",
   "language": "python",
   "name": "python3"
  },
  "language_info": {
   "codemirror_mode": {
    "name": "ipython",
    "version": 3
   },
   "file_extension": ".py",
   "mimetype": "text/x-python",
   "name": "python",
   "nbconvert_exporter": "python",
   "pygments_lexer": "ipython3",
   "version": "3.8.10"
  }
 },
 "nbformat": 4,
 "nbformat_minor": 5
}
