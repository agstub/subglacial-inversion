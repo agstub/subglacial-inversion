{
 "cells": [
  {
   "cell_type": "markdown",
   "id": "adopted-nigeria",
   "metadata": {},
   "source": [
    "This notebook reproduces Figure 7 in the manuscript: joint inversion for both the basal vertical velocity ($w_b$) and drag coefficient ($\\beta$) anomalies given elevation and horizontal surface velocity data."
   ]
  },
  {
   "cell_type": "code",
   "execution_count": null,
   "id": "significant-graphic",
   "metadata": {},
   "outputs": [],
   "source": [
    "# add path to code\n",
    "import sys\n",
    "sys.path.insert(0, '../code')\n",
    "import params\n",
    "params.u_wt = 1e-1                           # set weight on velocity misfit terms relative to elevation misfit\n",
    "\n",
    "import numpy as np\n",
    "from synthetic_data import make_data,make_fields\n",
    "from main import main\n",
    "\n",
    "noise_level = 0.01                           # noise level (scaled relative to elevation anomaly norm)\n",
    "\n",
    "inv_w = 1                                    # turn basal velocity inversion 'on'\n",
    "inv_beta = 1                                 # turn basal drag inversion 'on'\n",
    "sol_true = make_fields(inv_w,inv_beta)       # get the \"true\" inverse solution\n",
    "data = make_data(inv_w,inv_beta,noise_level) # create the data\n",
    "eps_w = 1.3                                  # set regularization parameter to ~optimal value\n",
    "eps_b = 5.5e3                                # set regularization parameter to ~optimal value"
   ]
  },
  {
   "cell_type": "markdown",
   "id": "several-agenda",
   "metadata": {},
   "source": [
    "First, we consider no GPS stations over the anomaly (same as in previous notebook). To do this, we set $\\texttt{vel_locs}$ to be zero everywhere"
   ]
  },
  {
   "cell_type": "code",
   "execution_count": null,
   "id": "immune-marijuana",
   "metadata": {},
   "outputs": [],
   "source": [
    "vel_locs = np.ones(np.shape(data[0]),dtype=int)\n",
    "sol,fwd,mis = main(data,vel_locs,inv_w,inv_beta,eps_beta=eps_b,eps_w=eps_w);"
   ]
  },
  {
   "cell_type": "code",
   "execution_count": null,
   "id": "infectious-external",
   "metadata": {},
   "outputs": [],
   "source": [
    "from plotting import snapshots,plot_movie\n",
    "snapshots(data,fwd,sol,sol_true,inv_w,inv_beta)\n",
    "#plot_movie(data,fwd,sol,sol_true,inv_w,inv_beta)"
   ]
  }
 ],
 "metadata": {
  "kernelspec": {
   "display_name": "Python 3",
   "language": "python",
   "name": "python3"
  },
  "language_info": {
   "codemirror_mode": {
    "name": "ipython",
    "version": 3
   },
   "file_extension": ".py",
   "mimetype": "text/x-python",
   "name": "python",
   "nbconvert_exporter": "python",
   "pygments_lexer": "ipython3",
   "version": "3.8.10"
  }
 },
 "nbformat": 4,
 "nbformat_minor": 5
}
