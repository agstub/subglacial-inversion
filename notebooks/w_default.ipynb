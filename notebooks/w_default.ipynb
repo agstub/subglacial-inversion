{
 "cells": [
  {
   "cell_type": "markdown",
   "id": "warming-burst",
   "metadata": {},
   "source": [
    "This notebook runs the default example for the basal vertical velocity inversion."
   ]
  },
  {
   "cell_type": "code",
   "execution_count": null,
   "id": "objective-height",
   "metadata": {},
   "outputs": [],
   "source": [
    "import sys\n",
    "sys.path.insert(0, '../code')\n",
    "\n",
    "import params \n",
    "params.inv_w = int(1)             # turn basal vertical velocity inversion on\n",
    "params.inv_beta = int(0)          # turn basal drag coefficient inversion off\n",
    "import main\n",
    "main.main()"
   ]
  }
 ],
 "metadata": {
  "kernelspec": {
   "display_name": "Python 3",
   "language": "python",
   "name": "python3"
  },
  "language_info": {
   "codemirror_mode": {
    "name": "ipython",
    "version": 3
   },
   "file_extension": ".py",
   "mimetype": "text/x-python",
   "name": "python",
   "nbconvert_exporter": "python",
   "pygments_lexer": "ipython3",
   "version": "3.8.10"
  }
 },
 "nbformat": 4,
 "nbformat_minor": 5
}
