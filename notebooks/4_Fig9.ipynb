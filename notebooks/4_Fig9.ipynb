{
 "cells": [
  {
   "cell_type": "markdown",
   "id": "adopted-nigeria",
   "metadata": {},
   "source": [
    "This notebook reproduces Figure 9 in the manuscript: inversion of synthetic data from a nonlinear subglacial lake model for the basal vertical velocity."
   ]
  },
  {
   "cell_type": "markdown",
   "id": "tutorial-alpha",
   "metadata": {},
   "source": [
    "The synthetic data are produced by running the default simulation in the repository: \n",
    "https://github.com/agstub/sglake-parallel"
   ]
  },
  {
   "cell_type": "code",
   "execution_count": 1,
   "id": "joined-devices",
   "metadata": {},
   "outputs": [],
   "source": [
    "# add path to code\n",
    "import sys\n",
    "sys.path.insert(0, '../code')\n",
    "import numpy as np\n",
    "\n",
    "import aux \n",
    "aux.nonlin_ex = 1          # specify that we are importing the nonlinear example data/solution\n",
    "\n",
    "import params\n",
    "params.cg_tol = 1.5e-3"
   ]
  },
  {
   "cell_type": "code",
   "execution_count": null,
   "id": "immune-marijuana",
   "metadata": {
    "scrolled": true
   },
   "outputs": [
    {
     "name": "stdout",
     "output_type": "stream",
     "text": [
      "Solving normal equations with CG....\n",
      "\n",
      "CG iter. 10: rel. residual norm = 9.88e-02,  tol = 1.50e-03\n",
      "CG iter. 20: rel. residual norm = 2.19e-02,  tol = 1.50e-03\n",
      "CG iter. 30: rel. residual norm = 2.25e-02,  tol = 1.50e-03\n",
      "CG iter. 40: rel. residual norm = 1.05e-02,  tol = 1.50e-03\n",
      "CG iter. 50: rel. residual norm = 8.92e-03,  tol = 1.50e-03\n",
      "CG iter. 60: rel. residual norm = 2.08e-02,  tol = 1.50e-03\n",
      "CG iter. 70: rel. residual norm = 7.13e-03,  tol = 1.50e-03\n",
      "CG iter. 80: rel. residual norm = 3.75e-03,  tol = 1.50e-03\n",
      "CG iter. 90: rel. residual norm = 3.16e-03,  tol = 1.50e-03\n",
      "CG iter. 100: rel. residual norm = 3.70e-03,  tol = 1.50e-03\n",
      "CG iter. 110: rel. residual norm = 4.72e-03,  tol = 1.50e-03\n",
      "CG iter. 120: rel. residual norm = 7.46e-03,  tol = 1.50e-03\n",
      "CG iter. 130: rel. residual norm = 2.60e-03,  tol = 1.50e-03\n",
      "CG iter. 140: rel. residual norm = 6.37e-03,  tol = 1.50e-03\n",
      "CG iter. 150: rel. residual norm = 4.77e-03,  tol = 1.50e-03\n",
      "CG iter. 160: rel. residual norm = 3.03e-03,  tol = 1.50e-03\n",
      "CG iter. 170: rel. residual norm = 1.88e-03,  tol = 1.50e-03\n",
      "CG iter. 180: rel. residual norm = 2.24e-03,  tol = 1.50e-03\n"
     ]
    }
   ],
   "source": [
    "from synthetic_data import make_data,make_fields\n",
    "from main import main\n",
    "\n",
    "noise_level = 0.01                           # noise level (scaled relative to elevation anomaly norm)\n",
    "\n",
    "inv_w = 1                                    # turn basal velocity inversion 'on'\n",
    "inv_beta = 0                                 # turn basal drag inversion 'off'\n",
    "sol_true = make_fields(inv_w,inv_beta)       # get the \"true\" inverse solution\n",
    "data = make_data(inv_w,inv_beta,noise_level) # create the data\n",
    "eps_w = 5e-2                                 # set regularization parameter to ~optimal value\n",
    "\n",
    "vel_locs = np.zeros(np.shape(data[0]),dtype=int)\n",
    "sol,fwd,mis = main(data,vel_locs,inv_w,inv_beta,eps_beta=0,eps_w=eps_w);"
   ]
  },
  {
   "cell_type": "markdown",
   "id": "prerequisite-jaguar",
   "metadata": {},
   "source": [
    "Now we calculate the true and estimated volume change $\\Delta V = V-V_0$ from the basal vertical velocity:"
   ]
  },
  {
   "cell_type": "code",
   "execution_count": null,
   "id": "orange-celebrity",
   "metadata": {},
   "outputs": [],
   "source": [
    "from scipy.integrate import trapezoid,cumulative_trapezoid\n",
    "from params import dx,dt\n",
    "wb = sol[:,:,50]\n",
    "wb_true = sol_true[:,:,50]\n",
    "dV_inv = cumulative_trapezoid(trapezoid(wb,dx=dx,axis=-1),dx=dt,initial=0)\n",
    "dV_true = cumulative_trapezoid(trapezoid(wb_true,dx=dx,axis=-1),dx=dt,initial=0)"
   ]
  },
  {
   "cell_type": "markdown",
   "id": "herbal-citizenship",
   "metadata": {},
   "source": [
    "Finally, we can plot the solution:"
   ]
  },
  {
   "cell_type": "code",
   "execution_count": null,
   "id": "resistant-calculation",
   "metadata": {
    "scrolled": false
   },
   "outputs": [],
   "source": [
    "from plotting import snapshots,plot_movie\n",
    "snapshots(data,fwd,sol,sol_true,inv_w,inv_beta,dV_inv,dV_true)\n",
    "#plot_movie(data,fwd,sol,sol_true,inv_w,inv_beta)"
   ]
  }
 ],
 "metadata": {
  "kernelspec": {
   "display_name": "Python 3",
   "language": "python",
   "name": "python3"
  },
  "language_info": {
   "codemirror_mode": {
    "name": "ipython",
    "version": 3
   },
   "file_extension": ".py",
   "mimetype": "text/x-python",
   "name": "python",
   "nbconvert_exporter": "python",
   "pygments_lexer": "ipython3",
   "version": "3.8.10"
  }
 },
 "nbformat": 4,
 "nbformat_minor": 5
}
