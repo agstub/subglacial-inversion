{
 "cells": [
  {
   "cell_type": "markdown",
   "id": "adopted-nigeria",
   "metadata": {},
   "source": [
    "This notebook reproduces Figure 9 in the manuscript: inversion of a synthetic data from a nonlinear subglacial lake model for the basal vertical velocity."
   ]
  },
  {
   "cell_type": "markdown",
   "id": "tutorial-alpha",
   "metadata": {},
   "source": [
    "The synthetic data are produced by running the default simulation in the repository: \n",
    "https://github.com/agstub/sglake-parallel"
   ]
  },
  {
   "cell_type": "code",
   "execution_count": null,
   "id": "joined-devices",
   "metadata": {},
   "outputs": [],
   "source": [
    "# add path to code\n",
    "import sys\n",
    "sys.path.insert(0, '../code')\n",
    "import numpy as np\n",
    "\n",
    "import aux \n",
    "aux.nonlin_ex = 1          # specify that we are importing the nonlinear example data/solution\n",
    "\n",
    "import params\n",
    "params.cg_tol = 1.5e-3"
   ]
  },
  {
   "cell_type": "code",
   "execution_count": null,
   "id": "immune-marijuana",
   "metadata": {
    "scrolled": true
   },
   "outputs": [],
   "source": [
    "from synthetic_data import make_data,make_fields\n",
    "from main import main\n",
    "\n",
    "noise_level = 0.01                           # noise level (scaled relative to elevation anomaly norm)\n",
    "\n",
    "inv_w = 1                                    # turn basal velocity inversion 'on'\n",
    "inv_beta = 0                                 # turn basal drag inversion 'off'\n",
    "sol_true = make_fields(inv_w,inv_beta)       # get the \"true\" inverse solution\n",
    "data = make_data(inv_w,inv_beta,noise_level) # create the data\n",
    "eps_w = 1e-1                                 # set regularization parameter to ~optimal value\n",
    "\n",
    "vel_locs = np.zeros(np.shape(data[0]),dtype=int)\n",
    "sol,fwd,mis = main(data,vel_locs,inv_w,inv_beta,eps_beta=0,eps_w=eps_w);"
   ]
  },
  {
   "cell_type": "code",
   "execution_count": null,
   "id": "resistant-calculation",
   "metadata": {
    "scrolled": false
   },
   "outputs": [],
   "source": [
    "from plotting import snapshots,plot_movie\n",
    "snapshots(data,fwd,sol,sol_true,inv_w,inv_beta)\n",
    "#plot_movie(data,fwd,sol,sol_true,inv_w,inv_beta)"
   ]
  }
 ],
 "metadata": {
  "kernelspec": {
   "display_name": "Python 3",
   "language": "python",
   "name": "python3"
  },
  "language_info": {
   "codemirror_mode": {
    "name": "ipython",
    "version": 3
   },
   "file_extension": ".py",
   "mimetype": "text/x-python",
   "name": "python",
   "nbconvert_exporter": "python",
   "pygments_lexer": "ipython3",
   "version": "3.8.10"
  }
 },
 "nbformat": 4,
 "nbformat_minor": 5
}
