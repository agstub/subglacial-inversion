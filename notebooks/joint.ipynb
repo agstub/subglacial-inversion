{
 "cells": [
  {
   "cell_type": "markdown",
   "id": "periodic-milan",
   "metadata": {},
   "source": [
    "This notebook runs the default example for the *joint* basal drag and vertical velocity inversion."
   ]
  },
  {
   "cell_type": "code",
   "execution_count": null,
   "id": "liquid-reality",
   "metadata": {},
   "outputs": [],
   "source": [
    "import sys\n",
    "sys.path.insert(0, '../code')\n",
    "\n",
    "import numpy as np\n",
    "\n",
    "import params as p\n",
    "p.inv_w = int(1)             # turn basal vertical velocity inversion on\n",
    "p.inv_beta = int(1)          # turn basal drag coefficient inversion on\n",
    "p.dim = int(2)\n",
    "p.vel_data = int(1)\n",
    "p.save_sol = int(1)          # save interpolated version of coarse-grid solution \n",
    "p.u_wt = 1e-1                # set weight on veloicty misfit terms\n",
    "p.eps_w = 1e-4\n",
    "p.eps_beta = 1e4\n",
    "#p.cg_tol = 1e-5"
   ]
  },
  {
   "cell_type": "markdown",
   "id": "returning-desperate",
   "metadata": {},
   "source": [
    "Define lower-resolution discretization for initial iterations"
   ]
  },
  {
   "cell_type": "code",
   "execution_count": null,
   "id": "transparent-gauge",
   "metadata": {},
   "outputs": [],
   "source": [
    "p.Nx = 25\n",
    "p.Ny = 25\n",
    "p.Nt = 50\n",
    "\n",
    "# re-set discretization\n",
    "p.t0 = np.linspace(0,p.t_final,num=p.Nt) # time array\n",
    "\n",
    "p.dt = p.t0[1]\n",
    "\n",
    "p.x0 = np.linspace(-4*p.L,4*p.L,num=p.Nx)  # x coordinate array\n",
    "p.y0 = np.linspace(-4*p.L,4*p.L,num=p.Ny)  # y coordinate array\n",
    "p.dx = np.abs(p.x0[1]-p.x0[0])           # grid size in x direction'\n",
    "p.dy = np.abs(p.y0[1]-p.y0[0])           # grid size in y direction\n",
    "\n",
    "# frequency\n",
    "from scipy.fft import fftfreq\n",
    "p.kx0 =  fftfreq(p.Nx,p.dx)\n",
    "p.ky0 =  fftfreq(p.Ny,p.dy)\n",
    "\n",
    "# set zero frequency to small number because some of the integral kernels\n",
    "# have integrable or removable singularities at the zero frequency\n",
    "\n",
    "p.kx0[0] = 1e-10\n",
    "p.ky0[0] = 1e-10\n",
    "\n",
    "# mesh grids for physical space domain\n",
    "p.t,p.x,p.y = np.meshgrid(p.t0,p.x0,p.y0,indexing='ij')\n",
    "\n",
    "# mesh grids for frequency domain\n",
    "p.t,p.kx,p.ky = np.meshgrid(p.t0,p.kx0,p.ky0,indexing='ij')\n",
    "\n",
    "# magnitude of the wavevector\n",
    "p.k = np.sqrt(p.kx**2+p.ky**2)"
   ]
  },
  {
   "cell_type": "markdown",
   "id": "understood-officer",
   "metadata": {},
   "source": [
    "Solve the problem on the coare grid, then interpolate onto the finer default grid:"
   ]
  },
  {
   "cell_type": "code",
   "execution_count": null,
   "id": "australian-shade",
   "metadata": {
    "scrolled": true
   },
   "outputs": [],
   "source": [
    "import main\n",
    "main.main();"
   ]
  },
  {
   "cell_type": "markdown",
   "id": "small-ticket",
   "metadata": {},
   "source": [
    "**Restart kernel now!!! (press 00 or use toolbar)**"
   ]
  },
  {
   "cell_type": "markdown",
   "id": "bulgarian-material",
   "metadata": {},
   "source": [
    "Now re-run the problem at the default high resolution, using the "
   ]
  },
  {
   "cell_type": "code",
   "execution_count": null,
   "id": "honest-interim",
   "metadata": {},
   "outputs": [],
   "source": [
    "import sys\n",
    "sys.path.insert(0, '../code')\n",
    "\n",
    "import numpy as np\n",
    "\n",
    "import params as p\n",
    "p.inv_w = int(1)             # turn basal vertical velocity inversion on\n",
    "p.inv_beta = int(1)          # turn basal drag coefficient inversion on\n",
    "p.dim = int(2)\n",
    "p.vel_data = int(1)\n",
    "p.load_sol = int(1)          # load interpolated coarse-grid solution to use as initial guess   \n",
    "p.u_wt = 1e-1                # set weight on veloicty misfit terms\n",
    "p.eps_w = 1e-4\n",
    "p.eps_beta = 1e4\n",
    "p.cg_tol = 1e-5\n",
    "\n",
    "import main\n",
    "sol = main.main();"
   ]
  },
  {
   "cell_type": "code",
   "execution_count": null,
   "id": "sustained-stuart",
   "metadata": {},
   "outputs": [],
   "source": []
  }
 ],
 "metadata": {
  "kernelspec": {
   "display_name": "Python 3",
   "language": "python",
   "name": "python3"
  },
  "language_info": {
   "codemirror_mode": {
    "name": "ipython",
    "version": 3
   },
   "file_extension": ".py",
   "mimetype": "text/x-python",
   "name": "python",
   "nbconvert_exporter": "python",
   "pygments_lexer": "ipython3",
   "version": "3.8.10"
  }
 },
 "nbformat": 4,
 "nbformat_minor": 5
}
