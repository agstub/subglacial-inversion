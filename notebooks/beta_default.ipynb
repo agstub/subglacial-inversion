{
 "cells": [
  {
   "cell_type": "markdown",
   "id": "modern-cleaning",
   "metadata": {},
   "source": [
    "This notebook runs the default example for the basal drag coefficient inversion."
   ]
  },
  {
   "cell_type": "code",
   "execution_count": null,
   "id": "humanitarian-brazil",
   "metadata": {},
   "outputs": [],
   "source": [
    "import sys\n",
    "sys.path.insert(0, '../code')\n",
    "\n",
    "import params\n",
    "params.inv_w = int(0)      # turn vertical velocity inversion off\n",
    "params.inv_beta = int(1)   # turn drag coefficient inversion on\n",
    "import main\n",
    "main.main()"
   ]
  }
 ],
 "metadata": {
  "kernelspec": {
   "display_name": "Python 3",
   "language": "python",
   "name": "python3"
  },
  "language_info": {
   "codemirror_mode": {
    "name": "ipython",
    "version": 3
   },
   "file_extension": ".py",
   "mimetype": "text/x-python",
   "name": "python",
   "nbconvert_exporter": "python",
   "pygments_lexer": "ipython3",
   "version": "3.8.10"
  }
 },
 "nbformat": 4,
 "nbformat_minor": 5
}
