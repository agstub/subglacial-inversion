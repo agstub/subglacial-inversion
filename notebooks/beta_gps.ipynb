{
 "cells": [
  {
   "cell_type": "markdown",
   "id": "adopted-nigeria",
   "metadata": {},
   "source": [
    "This code runs the example basal drag inversions with GPS stations included. (Note that the kernel needs to be restarted between the two examples) "
   ]
  },
  {
   "cell_type": "markdown",
   "id": "executive-swiss",
   "metadata": {},
   "source": [
    "The first example places one synthetic GPS station over the elevation anomaly."
   ]
  },
  {
   "cell_type": "code",
   "execution_count": null,
   "id": "sustainable-orlando",
   "metadata": {},
   "outputs": [],
   "source": [
    "import sys\n",
    "sys.path.insert(0, '../code')\n",
    "\n",
    "import params as p\n",
    "p.inv_w = int(0)          # turn basal velocity inversion off\n",
    "p.inv_beta = int(1)       # turn basal drag inversion on\n",
    "p.vel_data = int(1)       # turn surface velocity data on\n",
    "p.u_wt = 1e-5             # set weight on veloicty misfit terms"
   ]
  },
  {
   "cell_type": "markdown",
   "id": "forty-victor",
   "metadata": {},
   "source": [
    "Place one synthetic GPS stations over the anomaly:"
   ]
  },
  {
   "cell_type": "code",
   "execution_count": null,
   "id": "mechanical-scene",
   "metadata": {},
   "outputs": [],
   "source": [
    "import gps_stats as gs\n",
    "import numpy as np \n",
    "gs.gps_locs = np.zeros(np.shape(p.x))            # initialize gps station function\n",
    "gs.gps_locs[np.sqrt(p.x**2+p.y**2)<0.5*p.dx] = 1 # one station"
   ]
  },
  {
   "cell_type": "markdown",
   "id": "unlike-burst",
   "metadata": {},
   "source": [
    "Run the inversion:"
   ]
  },
  {
   "cell_type": "code",
   "execution_count": null,
   "id": "assured-demand",
   "metadata": {},
   "outputs": [],
   "source": [
    "import main\n",
    "beta_1 = main.main()"
   ]
  },
  {
   "cell_type": "markdown",
   "id": "clinical-walnut",
   "metadata": {},
   "source": [
    "Save the solution:"
   ]
  },
  {
   "cell_type": "code",
   "execution_count": null,
   "id": "interior-music",
   "metadata": {},
   "outputs": [],
   "source": [
    "np.save('beta_1.npy',beta_1)"
   ]
  },
  {
   "cell_type": "markdown",
   "id": "incorporate-latino",
   "metadata": {},
   "source": [
    "**Restart the kernel now!!! (Press 00 or use toolbar).** "
   ]
  },
  {
   "cell_type": "markdown",
   "id": "collaborative-colombia",
   "metadata": {},
   "source": [
    "The next example places nine stations over the elevation anomaly."
   ]
  },
  {
   "cell_type": "code",
   "execution_count": null,
   "id": "ordinary-decimal",
   "metadata": {},
   "outputs": [],
   "source": [
    "import sys\n",
    "sys.path.insert(0, '../code')\n",
    "\n",
    "import params as p\n",
    "p.inv_w = int(0)          # turn basal velocity inversion off\n",
    "p.inv_beta = int(1)       # turn basal drag inversion on\n",
    "p.vel_data = int(1)       # turn surface velocity data on (default e) \n",
    "p.u_wt = 1e-5             # set weight on veloicty misfit terms\n",
    "\n",
    "import gps_stats as gs\n",
    "import numpy as np \n",
    "gs.gps_locs = np.zeros(np.shape(p.x))            # initialize gps station function\n",
    "\n",
    "# 9-station array example\n",
    "gs.gps_locs[:,50,50] = 1\n",
    "gs.gps_locs[:,60,50] = 1\n",
    "gs.gps_locs[:,50,60] = 1\n",
    "gs.gps_locs[:,60,60] = 1\n",
    "gs.gps_locs[:,40,50] = 1\n",
    "gs.gps_locs[:,50,40] = 1\n",
    "gs.gps_locs[:,40,40] = 1\n",
    "gs.gps_locs[:,40,60] = 1\n",
    "gs.gps_locs[:,60,40] = 1\n",
    "\n",
    "# run the inversion solver\n",
    "import main\n",
    "beta_2 = main.main()"
   ]
  },
  {
   "cell_type": "code",
   "execution_count": null,
   "id": "swiss-magazine",
   "metadata": {},
   "outputs": [],
   "source": [
    "from plotting import gps_plot\n",
    "from synthetic_data import beta_true\n",
    "import numpy as np\n",
    "beta_1 = np.load('beta_1.npy')"
   ]
  },
  {
   "cell_type": "code",
   "execution_count": null,
   "id": "nervous-picture",
   "metadata": {},
   "outputs": [],
   "source": [
    "gps_plot(beta_1,beta_2,beta_true)"
   ]
  }
 ],
 "metadata": {
  "kernelspec": {
   "display_name": "Python 3",
   "language": "python",
   "name": "python3"
  },
  "language_info": {
   "codemirror_mode": {
    "name": "ipython",
    "version": 3
   },
   "file_extension": ".py",
   "mimetype": "text/x-python",
   "name": "python",
   "nbconvert_exporter": "python",
   "pygments_lexer": "ipython3",
   "version": "3.8.10"
  }
 },
 "nbformat": 4,
 "nbformat_minor": 5
}
